{
 "cells": [
  {
   "cell_type": "code",
   "execution_count": 3,
   "id": "d56de251-6a21-430d-a714-dbd65decfca4",
   "metadata": {},
   "outputs": [],
   "source": [
    "import numpy as np\n",
    "import bilby\n",
    "import json\n",
    "import glob\n",
    "import pandas as pd\n",
    "from tqdm import trange\n",
    "\n",
    "max_f = 2048\n",
    "min_f = 23"
   ]
  },
  {
   "cell_type": "code",
   "execution_count": 4,
   "id": "7bc69206-c0fd-45af-9b7d-7a3cd3a88f75",
   "metadata": {},
   "outputs": [],
   "source": [
    "def get_bns_prior(chirp_mass):\n",
    "    prior_template = bilby.gw.prior.BNSPriorDict(aligned_spin=True)\n",
    "    prior_template['chirp_mass'] = bilby.core.prior.Uniform(name = 'chirp_mass', minimum = chirp_mass - 0.01, maximum= chirp_mass + 0.01)\n",
    "    prior_template['mass_ratio'] = bilby.core.prior.Uniform(name = 'mass_ratio', minimum = 0.125, maximum = 1)\n",
    "    for ii in [1,2]:\n",
    "        del prior_template[f\"mass_{ii}\"]\n",
    "        prior_template[f\"chi_{ii}\"].a_prior.maximum = 0.05\n",
    "        prior_template[f\"lambda_{ii}\"].maximum = 15000\n",
    "    prior_template['luminosity_distance'] = bilby.gw.prior.UniformSourceFrame(minimum = 1, maximum = 1500, name = 'luminosity_distance', latex_label='$d_L$')\n",
    "    \n",
    "    new_prior = {key: prior_template[key] for key in prior_template.keys()}\n",
    "    return new_prior"
   ]
  },
  {
   "cell_type": "code",
   "execution_count": 5,
   "id": "2a3bbc3f-f510-48d8-b425-e0383a736c8b",
   "metadata": {},
   "outputs": [],
   "source": [
    "def get_duration(sample, fmin):    \n",
    "    duration = bilby.gw.utils.calculate_time_to_merger(fmin, sample['mass_1'], \n",
    "                sample['mass_2'])\n",
    "    duration = max(4, 2**(np.ceil(np.log2(duration))))\n",
    "    return duration"
   ]
  },
  {
   "cell_type": "code",
   "execution_count": 6,
   "id": "82450159-41b5-4787-af1f-5f6c8c2587b8",
   "metadata": {},
   "outputs": [],
   "source": [
    "def generate_ini(params, name, fmax, fmin, subdir):\n",
    "    with open('template.ini', 'r') as rr:\n",
    "        template = rr.readlines()\n",
    "\n",
    "    params['chirp_mass'] = bilby.gw.conversion.component_masses_to_chirp_mass(mass_1=params['mass_1'], mass_2 = params['mass_2'])\n",
    "    \n",
    "    duration = get_duration(params, min_f)\n",
    "  \n",
    "    prior_here = get_bns_prior(params['chirp_mass'])\n",
    "    #prior_here['luminosity_distance'].cosmology = None\n",
    "    #prior_here['luminosity_distance'].unit = None\n",
    "    for jj, line in enumerate(template):\n",
    "        if line.startswith(\"duration=\"):\n",
    "            template[jj] = f\"duration={duration}\\n\"\n",
    "        if line.startswith(\"sampling-frequency=\"):\n",
    "            template[jj] = f\"sampling-frequency={fmax * 2}\\n\"\n",
    "        if line.startswith(\"maximum-frequency=\"):\n",
    "            template[jj] = f\"maximum-frequency={fmax * 7/8}\\n\"\n",
    "        if line.startswith(\"injection-dict=\"):\n",
    "            template[jj] = f\"injection_dict={params}\\n\"\n",
    "        if line.startswith(\"label=\"):\n",
    "            template[jj] = f\"label={name}\\n\"\n",
    "        if line.startswith(\"prior-dict=\"):\n",
    "            template[jj] = \"prior-dict={\"\n",
    "            for key in prior_here.keys():\n",
    "                template[jj] += f\"{key}:{prior_here[key]},\"\n",
    "            template[jj] = template[jj].strip(',')\n",
    "            template[jj] += \"}\\n\"\n",
    "        if line.startswith(\"outdir=\"):\n",
    "            template[jj] = f\"outdir={subdir}/outdir_{name}\\n\"\n",
    "    return template"
   ]
  },
  {
   "cell_type": "code",
   "execution_count": 7,
   "id": "122f0029-7386-42ad-a641-c5ca2c298881",
   "metadata": {},
   "outputs": [],
   "source": [
    "def get_and_write_ini(indx, df, fmax, fmin, subdir):\n",
    "    params_here = {key: df.loc[key][0][indx] for key in df.index if \"Unnamed\" not in key}\n",
    "    print(params_here)\n",
    "    name_here = f\"injection_{indx}\"\n",
    "    ini = generate_ini(params_here, name_here, fmax, fmin, subdir)\n",
    "    with open(f\"{subdir}/{name_here}.ini\", \"w\") as ww:\n",
    "        ww.writelines(ini)"
   ]
  },
  {
   "cell_type": "code",
   "execution_count": 18,
   "id": "34a7b609-07d4-40bb-9e83-c080759f7532",
   "metadata": {},
   "outputs": [
    {
     "data": {
      "text/plain": [
       "{'SNR_passed': True,\n",
       " 'all_cuts_passed': True,\n",
       " 'chi_1': -5.853780158931462e-07,\n",
       " 'chi_2': 0.005960292522309001,\n",
       " 'chirp_mass': 1.496341936380329,\n",
       " 'comoving_distance': 104.02272610468582,\n",
       " 'dec': -0.296104124056984,\n",
       " 'geocent_time': 0.0,\n",
       " 'lambda_1': 39.79150900918767,\n",
       " 'lambda_2': 197.48241220808288,\n",
       " 'luminosity_distance': 106.48126706100513,\n",
       " 'mass_1': 1.896379422096461,\n",
       " 'mass_1_source': 1.8525939982288722,\n",
       " 'mass_2': 1.560882759862513,\n",
       " 'mass_2_source': 1.524843604168323,\n",
       " 'mass_ratio_passed': True,\n",
       " 'optimal_snr_squared': 1181.210280110161,\n",
       " 'phase': 1.518294035534122,\n",
       " 'psi': 2.820783497402834,\n",
       " 'ra': 2.198865209353751,\n",
       " 'redshift': 0.023634657085928,\n",
       " 'theta_jn': 1.9591833720842131}"
      ]
     },
     "execution_count": 18,
     "metadata": {},
     "output_type": "execute_result"
    }
   ],
   "source": [
    "events = pd.read_json(\"ABHT_QMCRMF2/found_injections-abht_qmcrmf2_0.json\")\n",
    "params_here = {key: events.loc[key][0][1] for key in events.index if \"Unnamed\" not in key}\n",
    "params_here"
   ]
  },
  {
   "cell_type": "code",
   "execution_count": 16,
   "id": "3185d63e-7442-4dbe-a8ee-cc7920175cbf",
   "metadata": {},
   "outputs": [
    {
     "data": {
      "text/plain": [
       "injections    [1.691771974207073, 1.896379422096461, 1.99601...\n",
       "Name: mass_1, dtype: object"
      ]
     },
     "execution_count": 16,
     "metadata": {},
     "output_type": "execute_result"
    }
   ],
   "source": [
    "events.loc[\"mass_1\"]"
   ]
  },
  {
   "cell_type": "code",
   "execution_count": 29,
   "id": "3dc98894-feb5-40d8-bd59-daedb8dbbe74",
   "metadata": {},
   "outputs": [
    {
     "data": {
      "text/plain": [
       "[True, True, True, True, True, True, True, True, True, True, True, True, True]"
      ]
     },
     "execution_count": 29,
     "metadata": {},
     "output_type": "execute_result"
    }
   ],
   "source": [
    "events.iloc[0][\"injections\"]"
   ]
  },
  {
   "cell_type": "code",
   "execution_count": 30,
   "id": "8b592b12-b42f-448f-965f-f25d09b534dc",
   "metadata": {},
   "outputs": [
    {
     "name": "stderr",
     "output_type": "stream",
     "text": [
      "  0%|          | 0/13 [00:00<?, ?it/s]14:37 bilby INFO    : No prior given, using default BNS priors in /cvmfs/software.igwn.org/conda/envs/igwn-testing/lib/python3.10/site-packages/bilby/gw/prior_files/aligned_spins_bns_tides_on.prior.\n"
     ]
    },
    {
     "name": "stdout",
     "output_type": "stream",
     "text": [
      "{'SNR_passed': True, 'all_cuts_passed': True, 'chi_1': 0.036850625561290005, 'chi_2': -0.0017134324965930002, 'chirp_mass': 1.34858038388442, 'comoving_distance': 273.2978119858125, 'dec': -1.01631389956222, 'geocent_time': 0.0, 'lambda_1': 145.15471676424988, 'lambda_2': 460.8362669469534, 'luminosity_distance': 290.426592946818, 'mass_1': 1.691771974207073, 'mass_1_source': 1.5919946348684362, 'mass_2': 1.420644725248986, 'mass_2_source': 1.336857930697522, 'mass_ratio_passed': True, 'optimal_snr_squared': 206.30922514467784, 'phase': 6.254272698020112, 'psi': 1.955631662267679, 'ra': 3.9933340827033863, 'redshift': 0.06267441934368201, 'theta_jn': 1.053762046933667}\n"
     ]
    },
    {
     "name": "stderr",
     "output_type": "stream",
     "text": [
      "  8%|▊         | 1/13 [00:00<00:03,  3.23it/s]14:37 bilby INFO    : No prior given, using default BNS priors in /cvmfs/software.igwn.org/conda/envs/igwn-testing/lib/python3.10/site-packages/bilby/gw/prior_files/aligned_spins_bns_tides_on.prior.\n"
     ]
    },
    {
     "name": "stdout",
     "output_type": "stream",
     "text": [
      "{'SNR_passed': True, 'all_cuts_passed': True, 'chi_1': -5.853780158931462e-07, 'chi_2': 0.005960292522309001, 'chirp_mass': 1.496341936380329, 'comoving_distance': 104.02272610468582, 'dec': -0.296104124056984, 'geocent_time': 0.0, 'lambda_1': 39.79150900918767, 'lambda_2': 197.48241220808288, 'luminosity_distance': 106.48126706100513, 'mass_1': 1.896379422096461, 'mass_1_source': 1.8525939982288722, 'mass_2': 1.560882759862513, 'mass_2_source': 1.524843604168323, 'mass_ratio_passed': True, 'optimal_snr_squared': 1181.210280110161, 'phase': 1.518294035534122, 'psi': 2.820783497402834, 'ra': 2.198865209353751, 'redshift': 0.023634657085928, 'theta_jn': 1.9591833720842131}\n"
     ]
    },
    {
     "name": "stderr",
     "output_type": "stream",
     "text": [
      " 15%|█▌        | 2/13 [00:00<00:03,  3.00it/s]14:37 bilby INFO    : No prior given, using default BNS priors in /cvmfs/software.igwn.org/conda/envs/igwn-testing/lib/python3.10/site-packages/bilby/gw/prior_files/aligned_spins_bns_tides_on.prior.\n"
     ]
    },
    {
     "name": "stdout",
     "output_type": "stream",
     "text": [
      "{'SNR_passed': True, 'all_cuts_passed': True, 'chi_1': 0.00448074587372, 'chi_2': -0.004400782568663, 'chirp_mass': 1.61888997915832, 'comoving_distance': 180.3214465094305, 'dec': 0.8105363148382461, 'geocent_time': 0.0, 'lambda_1': 26.970091216525866, 'lambda_2': 102.89578071838086, 'luminosity_distance': 187.7398967126805, 'mass_1': 1.996016549531741, 'mass_1_source': 1.917144941689808, 'mass_2': 1.734248451429966, 'mass_2_source': 1.665720480660509, 'mass_ratio_passed': True, 'optimal_snr_squared': 772.1904565968753, 'phase': 0.9673334416744651, 'psi': 2.9970298212954702, 'ra': 4.731513764836591, 'redshift': 0.041140138195505, 'theta_jn': 0.6504743745705811}\n"
     ]
    },
    {
     "name": "stderr",
     "output_type": "stream",
     "text": [
      " 23%|██▎       | 3/13 [00:00<00:03,  3.18it/s]14:37 bilby INFO    : No prior given, using default BNS priors in /cvmfs/software.igwn.org/conda/envs/igwn-testing/lib/python3.10/site-packages/bilby/gw/prior_files/aligned_spins_bns_tides_on.prior.\n"
     ]
    },
    {
     "name": "stdout",
     "output_type": "stream",
     "text": [
      "{'SNR_passed': True, 'all_cuts_passed': True, 'chi_1': -0.0027960472166490002, 'chi_2': 0.009716358437042001, 'chirp_mass': 1.109115645568565, 'comoving_distance': 147.45105742551684, 'dec': 0.017284457734607, 'geocent_time': 0.0, 'lambda_1': 337.2449363104933, 'lambda_2': 1545.8214037155394, 'luminosity_distance': 152.40254482439684, 'mass_1': 1.453021849396281, 'mass_1_source': 1.405813843176469, 'mass_2': 1.120862232434863, 'mass_2_source': 1.084445938170381, 'mass_ratio_passed': True, 'optimal_snr_squared': 205.34409191159207, 'phase': 4.518825298658638, 'psi': 1.038543208736901, 'ra': 4.339040251665352, 'redshift': 0.033580552965066006, 'theta_jn': 2.348664400021427}\n"
     ]
    },
    {
     "name": "stderr",
     "output_type": "stream",
     "text": [
      " 31%|███       | 4/13 [00:01<00:02,  3.21it/s]14:37 bilby INFO    : No prior given, using default BNS priors in /cvmfs/software.igwn.org/conda/envs/igwn-testing/lib/python3.10/site-packages/bilby/gw/prior_files/aligned_spins_bns_tides_on.prior.\n"
     ]
    },
    {
     "name": "stdout",
     "output_type": "stream",
     "text": [
      "{'SNR_passed': True, 'all_cuts_passed': True, 'chi_1': 0.00037196549901900004, 'chi_2': 0.0013747949495340002, 'chirp_mass': 1.2284446985287, 'comoving_distance': 264.3271410629036, 'dec': 0.7192825139080411, 'geocent_time': 0.0, 'lambda_1': 188.0692676109631, 'lambda_2': 1078.41123765832, 'luminosity_distance': 280.34187681022394, 'mass_1': 1.6283577192955612, 'mass_1_source': 1.535336590635112, 'mass_2': 1.227720692191894, 'mass_2_source': 1.157586247460129, 'mass_ratio_passed': True, 'optimal_snr_squared': 212.56880264581503, 'phase': 3.258864910717307, 'psi': 2.4732857630499, 'ra': 1.10860046598102, 'redshift': 0.06058679850909301, 'theta_jn': 0.9351254351048581}\n"
     ]
    },
    {
     "name": "stderr",
     "output_type": "stream",
     "text": [
      " 38%|███▊      | 5/13 [00:01<00:02,  3.15it/s]14:37 bilby INFO    : No prior given, using default BNS priors in /cvmfs/software.igwn.org/conda/envs/igwn-testing/lib/python3.10/site-packages/bilby/gw/prior_files/aligned_spins_bns_tides_on.prior.\n"
     ]
    },
    {
     "name": "stdout",
     "output_type": "stream",
     "text": [
      "{'SNR_passed': True, 'all_cuts_passed': True, 'chi_1': 0.013748196904625, 'chi_2': 0.008918879215345, 'chirp_mass': 1.2611722216667491, 'comoving_distance': 221.71148739227868, 'dec': 0.7557682947059151, 'geocent_time': 0.0, 'lambda_1': 42.33283670373529, 'lambda_2': 1823.0344044048406, 'luminosity_distance': 232.95194192089764, 'mass_1': 1.9343089888122322, 'mass_1_source': 1.840974242415942, 'mass_2': 1.102092006709908, 'mass_2_source': 1.048913595945859, 'mass_ratio_passed': True, 'optimal_snr_squared': 510.5574942136932, 'phase': 3.623387334422735, 'psi': 2.957532385310555, 'ra': 0.0039586385226300005, 'redshift': 0.050698561797260004, 'theta_jn': 1.094272424367385}\n"
     ]
    },
    {
     "name": "stderr",
     "output_type": "stream",
     "text": [
      " 46%|████▌     | 6/13 [00:01<00:02,  2.99it/s]14:37 bilby INFO    : No prior given, using default BNS priors in /cvmfs/software.igwn.org/conda/envs/igwn-testing/lib/python3.10/site-packages/bilby/gw/prior_files/aligned_spins_bns_tides_on.prior.\n"
     ]
    },
    {
     "name": "stdout",
     "output_type": "stream",
     "text": [
      "{'SNR_passed': True, 'all_cuts_passed': True, 'chi_1': -0.0037453785664500003, 'chi_2': -0.0009075619668320001, 'chirp_mass': 1.475963734136205, 'comoving_distance': 232.0515916897465, 'dec': -1.149082850433874, 'geocent_time': 0.0, 'lambda_1': 107.77995681133169, 'lambda_2': 162.82965958765362, 'luminosity_distance': 244.37200227053043, 'mass_1': 1.744034064055747, 'mass_1_source': 1.656105756812734, 'mass_2': 1.6484560737152552, 'mass_2_source': 1.5653464859419661, 'mass_ratio_passed': True, 'optimal_snr_squared': 117.25201674158482, 'phase': 1.491757466470025, 'psi': 1.455194598782799, 'ra': 0.565371227434407, 'redshift': 0.053093413196169004, 'theta_jn': 1.6851699219485141}\n"
     ]
    },
    {
     "name": "stderr",
     "output_type": "stream",
     "text": [
      " 54%|█████▍    | 7/13 [00:02<00:01,  3.09it/s]14:37 bilby INFO    : No prior given, using default BNS priors in /cvmfs/software.igwn.org/conda/envs/igwn-testing/lib/python3.10/site-packages/bilby/gw/prior_files/aligned_spins_bns_tides_on.prior.\n"
     ]
    },
    {
     "name": "stdout",
     "output_type": "stream",
     "text": [
      "{'SNR_passed': True, 'all_cuts_passed': True, 'chi_1': 0.008006216851509, 'chi_2': -0.016766478943899002, 'chirp_mass': 1.632602457181112, 'comoving_distance': 234.12530445663086, 'dec': 0.5742682088459691, 'geocent_time': 0.0, 'lambda_1': 37.44265761438901, 'lambda_2': 86.83920838456274, 'luminosity_distance': 246.6683413192895, 'mass_1': 1.963339876927344, 'mass_1_source': 1.863504418214189, 'mass_2': 1.792083415151219, 'mass_2_source': 1.700956314893947, 'mass_ratio_passed': True, 'optimal_snr_squared': 1768.0450602166757, 'phase': 0.987528229600053, 'psi': 2.958229161818699, 'ra': 6.20431775111698, 'redshift': 0.053574039179809005, 'theta_jn': 0.413777023052106}\n"
     ]
    },
    {
     "name": "stderr",
     "output_type": "stream",
     "text": [
      " 62%|██████▏   | 8/13 [00:02<00:01,  3.03it/s]14:37 bilby INFO    : No prior given, using default BNS priors in /cvmfs/software.igwn.org/conda/envs/igwn-testing/lib/python3.10/site-packages/bilby/gw/prior_files/aligned_spins_bns_tides_on.prior.\n"
     ]
    },
    {
     "name": "stdout",
     "output_type": "stream",
     "text": [
      "{'SNR_passed': True, 'all_cuts_passed': True, 'chi_1': -0.022272460624457, 'chi_2': -0.03175847785186, 'chirp_mass': 0.9880468930761791, 'comoving_distance': 160.7181941169339, 'dec': 0.6946409261191471, 'geocent_time': 0.0, 'lambda_1': 1144.0991346786655, 'lambda_2': 1835.6852166736135, 'luminosity_distance': 166.6050509822834, 'mass_1': 1.186437666032013, 'mass_1_source': 1.144515836069161, 'mass_2': 1.086154196988069, 'mass_2_source': 1.047775803530739, 'mass_ratio_passed': True, 'optimal_snr_squared': 749.8947626634474, 'phase': 0.39038931011098105, 'psi': 0.9169943709602391, 'ra': 0.829649148451701, 'redshift': 0.036628440290379004, 'theta_jn': 0.768559330753368}\n"
     ]
    },
    {
     "name": "stderr",
     "output_type": "stream",
     "text": [
      " 69%|██████▉   | 9/13 [00:02<00:01,  3.01it/s]14:37 bilby INFO    : No prior given, using default BNS priors in /cvmfs/software.igwn.org/conda/envs/igwn-testing/lib/python3.10/site-packages/bilby/gw/prior_files/aligned_spins_bns_tides_on.prior.\n"
     ]
    },
    {
     "name": "stdout",
     "output_type": "stream",
     "text": [
      "{'SNR_passed': True, 'all_cuts_passed': True, 'chi_1': 0.002042324511289, 'chi_2': -0.003465424035336, 'chirp_mass': 1.7203537832316562, 'comoving_distance': 277.54964390295396, 'dec': 0.029900771221963003, 'geocent_time': 0.0, 'lambda_1': 21.296555428914804, 'lambda_2': 61.63339387275016, 'luminosity_distance': 295.2197435708309, 'mass_1': 2.074599467001017, 'mass_1_source': 1.950426279232813, 'mass_2': 1.883286750639171, 'mass_2_source': 1.7705644044570712, 'mass_ratio_passed': True, 'optimal_snr_squared': 581.485240749877, 'phase': 4.971955889873071, 'psi': 0.9906870189741941, 'ra': 3.875195953408518, 'redshift': 0.06366464043801001, 'theta_jn': 0.34084166298455004}\n"
     ]
    },
    {
     "name": "stderr",
     "output_type": "stream",
     "text": [
      " 77%|███████▋  | 10/13 [00:03<00:01,  2.93it/s]14:37 bilby INFO    : No prior given, using default BNS priors in /cvmfs/software.igwn.org/conda/envs/igwn-testing/lib/python3.10/site-packages/bilby/gw/prior_files/aligned_spins_bns_tides_on.prior.\n"
     ]
    },
    {
     "name": "stdout",
     "output_type": "stream",
     "text": [
      "{'SNR_passed': True, 'all_cuts_passed': True, 'chi_1': 0.038176088431062, 'chi_2': -0.0007321459222350001, 'chirp_mass': 1.168666296876855, 'comoving_distance': 150.13806718083342, 'dec': -0.137982989779075, 'geocent_time': 0.0, 'lambda_1': 265.56066865832105, 'lambda_2': 1079.07819421461, 'luminosity_distance': 155.27241117998034, 'mass_1': 1.509565249796265, 'mass_1_source': 1.459648927258141, 'mass_2': 1.1970355383348341, 'mass_2_source': 1.157453538133662, 'mass_ratio_passed': True, 'optimal_snr_squared': 215.0918716676992, 'phase': 3.094536930176016, 'psi': 2.496613007444352, 'ra': 4.448384111435689, 'redshift': 0.034197485166442006, 'theta_jn': 0.9754862388998631}\n"
     ]
    },
    {
     "name": "stderr",
     "output_type": "stream",
     "text": [
      " 85%|████████▍ | 11/13 [00:03<00:00,  3.04it/s]14:37 bilby INFO    : No prior given, using default BNS priors in /cvmfs/software.igwn.org/conda/envs/igwn-testing/lib/python3.10/site-packages/bilby/gw/prior_files/aligned_spins_bns_tides_on.prior.\n"
     ]
    },
    {
     "name": "stdout",
     "output_type": "stream",
     "text": [
      "{'SNR_passed': True, 'all_cuts_passed': True, 'chi_1': 0.0025824486741290002, 'chi_2': 0.00021109714857800002, 'chirp_mass': 1.215075253064641, 'comoving_distance': 208.91658738981067, 'dec': 0.80122188964582, 'geocent_time': 0.0, 'lambda_1': 163.26307726354125, 'lambda_2': 1167.4785444521467, 'luminosity_distance': 218.89006186281725, 'mass_1': 1.639389951435409, 'mass_1_source': 1.564693030997879, 'mass_2': 1.194279850166262, 'mass_2_source': 1.139863860322049, 'mass_ratio_passed': True, 'optimal_snr_squared': 394.0840139172895, 'phase': 3.035217553537722, 'psi': 3.041094766347139, 'ra': 1.157861605860497, 'redshift': 0.047739025455933004, 'theta_jn': 0.8864561100495291}\n"
     ]
    },
    {
     "name": "stderr",
     "output_type": "stream",
     "text": [
      " 92%|█████████▏| 12/13 [00:03<00:00,  2.94it/s]14:37 bilby INFO    : No prior given, using default BNS priors in /cvmfs/software.igwn.org/conda/envs/igwn-testing/lib/python3.10/site-packages/bilby/gw/prior_files/aligned_spins_bns_tides_on.prior.\n"
     ]
    },
    {
     "name": "stdout",
     "output_type": "stream",
     "text": [
      "{'SNR_passed': True, 'all_cuts_passed': True, 'chi_1': 0.00682476252103, 'chi_2': 0.012935992245701002, 'chirp_mass': 1.746425526760118, 'comoving_distance': 269.40103390446075, 'dec': 0.09047290243313201, 'geocent_time': 0.0, 'lambda_1': 22.768225040463772, 'lambda_2': 42.93794891110265, 'luminosity_distance': 286.04121195982935, 'mass_1': 2.061865389327998, 'mass_1_source': 1.9419183147556651, 'mass_2': 1.9521659249278551, 'mass_2_source': 1.838600513244406, 'mass_ratio_passed': True, 'optimal_snr_squared': 347.28763638261285, 'phase': 1.024316724783137, 'psi': 1.6577855434504252, 'ra': 2.370240646025308, 'redshift': 0.06176731207534, 'theta_jn': 0.7644853143329261}\n"
     ]
    },
    {
     "name": "stderr",
     "output_type": "stream",
     "text": [
      "100%|██████████| 13/13 [00:04<00:00,  2.90it/s]\n"
     ]
    }
   ],
   "source": [
    "for i in trange(len(events.iloc[0][\"injections\"])):\n",
    "    get_and_write_ini(i, events, max_f, min_f, subdir=\"ABHT_QMCRMF2\")"
   ]
  },
  {
   "cell_type": "code",
   "execution_count": 11,
   "id": "730465cf-bc60-4c21-8b96-2c4d3a358f1a",
   "metadata": {},
   "outputs": [
    {
     "ename": "KeyError",
     "evalue": "'luminosity_distance'",
     "output_type": "error",
     "traceback": [
      "\u001b[0;31m---------------------------------------------------------------------------\u001b[0m",
      "\u001b[0;31mKeyError\u001b[0m                                  Traceback (most recent call last)",
      "File \u001b[0;32m~/.local/lib/python3.10/site-packages/pandas/core/indexes/base.py:3802\u001b[0m, in \u001b[0;36mIndex.get_loc\u001b[0;34m(self, key, method, tolerance)\u001b[0m\n\u001b[1;32m   3801\u001b[0m \u001b[38;5;28;01mtry\u001b[39;00m:\n\u001b[0;32m-> 3802\u001b[0m     \u001b[38;5;28;01mreturn\u001b[39;00m \u001b[38;5;28;43mself\u001b[39;49m\u001b[38;5;241;43m.\u001b[39;49m\u001b[43m_engine\u001b[49m\u001b[38;5;241;43m.\u001b[39;49m\u001b[43mget_loc\u001b[49m\u001b[43m(\u001b[49m\u001b[43mcasted_key\u001b[49m\u001b[43m)\u001b[49m\n\u001b[1;32m   3803\u001b[0m \u001b[38;5;28;01mexcept\u001b[39;00m \u001b[38;5;167;01mKeyError\u001b[39;00m \u001b[38;5;28;01mas\u001b[39;00m err:\n",
      "File \u001b[0;32m~/.local/lib/python3.10/site-packages/pandas/_libs/index.pyx:138\u001b[0m, in \u001b[0;36mpandas._libs.index.IndexEngine.get_loc\u001b[0;34m()\u001b[0m\n",
      "File \u001b[0;32m~/.local/lib/python3.10/site-packages/pandas/_libs/index.pyx:165\u001b[0m, in \u001b[0;36mpandas._libs.index.IndexEngine.get_loc\u001b[0;34m()\u001b[0m\n",
      "File \u001b[0;32mpandas/_libs/hashtable_class_helper.pxi:5745\u001b[0m, in \u001b[0;36mpandas._libs.hashtable.PyObjectHashTable.get_item\u001b[0;34m()\u001b[0m\n",
      "File \u001b[0;32mpandas/_libs/hashtable_class_helper.pxi:5753\u001b[0m, in \u001b[0;36mpandas._libs.hashtable.PyObjectHashTable.get_item\u001b[0;34m()\u001b[0m\n",
      "\u001b[0;31mKeyError\u001b[0m: 'luminosity_distance'",
      "\nThe above exception was the direct cause of the following exception:\n",
      "\u001b[0;31mKeyError\u001b[0m                                  Traceback (most recent call last)",
      "Cell \u001b[0;32mIn[11], line 1\u001b[0m\n\u001b[0;32m----> 1\u001b[0m events\u001b[38;5;241m.\u001b[39miloc[\u001b[43mevents\u001b[49m\u001b[43m[\u001b[49m\u001b[38;5;124;43m'\u001b[39;49m\u001b[38;5;124;43mluminosity_distance\u001b[39;49m\u001b[38;5;124;43m'\u001b[39;49m\u001b[43m]\u001b[49m\u001b[38;5;241m.\u001b[39margmax()]\n",
      "File \u001b[0;32m~/.local/lib/python3.10/site-packages/pandas/core/frame.py:3807\u001b[0m, in \u001b[0;36mDataFrame.__getitem__\u001b[0;34m(self, key)\u001b[0m\n\u001b[1;32m   3805\u001b[0m \u001b[38;5;28;01mif\u001b[39;00m \u001b[38;5;28mself\u001b[39m\u001b[38;5;241m.\u001b[39mcolumns\u001b[38;5;241m.\u001b[39mnlevels \u001b[38;5;241m>\u001b[39m \u001b[38;5;241m1\u001b[39m:\n\u001b[1;32m   3806\u001b[0m     \u001b[38;5;28;01mreturn\u001b[39;00m \u001b[38;5;28mself\u001b[39m\u001b[38;5;241m.\u001b[39m_getitem_multilevel(key)\n\u001b[0;32m-> 3807\u001b[0m indexer \u001b[38;5;241m=\u001b[39m \u001b[38;5;28;43mself\u001b[39;49m\u001b[38;5;241;43m.\u001b[39;49m\u001b[43mcolumns\u001b[49m\u001b[38;5;241;43m.\u001b[39;49m\u001b[43mget_loc\u001b[49m\u001b[43m(\u001b[49m\u001b[43mkey\u001b[49m\u001b[43m)\u001b[49m\n\u001b[1;32m   3808\u001b[0m \u001b[38;5;28;01mif\u001b[39;00m is_integer(indexer):\n\u001b[1;32m   3809\u001b[0m     indexer \u001b[38;5;241m=\u001b[39m [indexer]\n",
      "File \u001b[0;32m~/.local/lib/python3.10/site-packages/pandas/core/indexes/base.py:3804\u001b[0m, in \u001b[0;36mIndex.get_loc\u001b[0;34m(self, key, method, tolerance)\u001b[0m\n\u001b[1;32m   3802\u001b[0m     \u001b[38;5;28;01mreturn\u001b[39;00m \u001b[38;5;28mself\u001b[39m\u001b[38;5;241m.\u001b[39m_engine\u001b[38;5;241m.\u001b[39mget_loc(casted_key)\n\u001b[1;32m   3803\u001b[0m \u001b[38;5;28;01mexcept\u001b[39;00m \u001b[38;5;167;01mKeyError\u001b[39;00m \u001b[38;5;28;01mas\u001b[39;00m err:\n\u001b[0;32m-> 3804\u001b[0m     \u001b[38;5;28;01mraise\u001b[39;00m \u001b[38;5;167;01mKeyError\u001b[39;00m(key) \u001b[38;5;28;01mfrom\u001b[39;00m \u001b[38;5;21;01merr\u001b[39;00m\n\u001b[1;32m   3805\u001b[0m \u001b[38;5;28;01mexcept\u001b[39;00m \u001b[38;5;167;01mTypeError\u001b[39;00m:\n\u001b[1;32m   3806\u001b[0m     \u001b[38;5;66;03m# If we have a listlike key, _check_indexing_error will raise\u001b[39;00m\n\u001b[1;32m   3807\u001b[0m     \u001b[38;5;66;03m#  InvalidIndexError. Otherwise we fall through and re-raise\u001b[39;00m\n\u001b[1;32m   3808\u001b[0m     \u001b[38;5;66;03m#  the TypeError.\u001b[39;00m\n\u001b[1;32m   3809\u001b[0m     \u001b[38;5;28mself\u001b[39m\u001b[38;5;241m.\u001b[39m_check_indexing_error(key)\n",
      "\u001b[0;31mKeyError\u001b[0m: 'luminosity_distance'"
     ]
    }
   ],
   "source": [
    "events.iloc[events['luminosity_distance'].argmax()]"
   ]
  },
  {
   "cell_type": "code",
   "execution_count": 1,
   "id": "a8916081-d256-4779-a7ea-7be3ecaef410",
   "metadata": {},
   "outputs": [
    {
     "data": {
      "text/plain": [
       "'/home/jacob.golomb/GWs_and_pulsars/may8_aligned/PE'"
      ]
     },
     "execution_count": 1,
     "metadata": {},
     "output_type": "execute_result"
    }
   ],
   "source": [
    "pwd\n"
   ]
  },
  {
   "cell_type": "code",
   "execution_count": 13,
   "id": "fb8cc61d-d45f-41a4-97e3-635d028d21a1",
   "metadata": {},
   "outputs": [
    {
     "data": {
      "text/html": [
       "<div>\n",
       "<style scoped>\n",
       "    .dataframe tbody tr th:only-of-type {\n",
       "        vertical-align: middle;\n",
       "    }\n",
       "\n",
       "    .dataframe tbody tr th {\n",
       "        vertical-align: top;\n",
       "    }\n",
       "\n",
       "    .dataframe thead th {\n",
       "        text-align: right;\n",
       "    }\n",
       "</style>\n",
       "<table border=\"1\" class=\"dataframe\">\n",
       "  <thead>\n",
       "    <tr style=\"text-align: right;\">\n",
       "      <th></th>\n",
       "      <th>injections</th>\n",
       "    </tr>\n",
       "  </thead>\n",
       "  <tbody>\n",
       "    <tr>\n",
       "      <th>SNR_passed</th>\n",
       "      <td>[True, True, True, True, True, True, True, Tru...</td>\n",
       "    </tr>\n",
       "    <tr>\n",
       "      <th>all_cuts_passed</th>\n",
       "      <td>[True, True, True, True, True, True, True, Tru...</td>\n",
       "    </tr>\n",
       "    <tr>\n",
       "      <th>chi_1</th>\n",
       "      <td>[0.036850625561290005, -5.853780158931462e-07,...</td>\n",
       "    </tr>\n",
       "    <tr>\n",
       "      <th>chi_2</th>\n",
       "      <td>[-0.0017134324965930002, 0.005960292522309001,...</td>\n",
       "    </tr>\n",
       "    <tr>\n",
       "      <th>chirp_mass</th>\n",
       "      <td>[1.34858038388442, 1.496341936380329, 1.618889...</td>\n",
       "    </tr>\n",
       "    <tr>\n",
       "      <th>comoving_distance</th>\n",
       "      <td>[273.2978119858125, 104.02272610468582, 180.32...</td>\n",
       "    </tr>\n",
       "    <tr>\n",
       "      <th>dec</th>\n",
       "      <td>[-1.01631389956222, -0.296104124056984, 0.8105...</td>\n",
       "    </tr>\n",
       "    <tr>\n",
       "      <th>geocent_time</th>\n",
       "      <td>[0.0, 0.0, 0.0, 0.0, 0.0, 0.0, 0.0, 0.0, 0.0, ...</td>\n",
       "    </tr>\n",
       "    <tr>\n",
       "      <th>lambda_1</th>\n",
       "      <td>[145.15471676424988, 39.79150900918767, 26.970...</td>\n",
       "    </tr>\n",
       "    <tr>\n",
       "      <th>lambda_2</th>\n",
       "      <td>[460.8362669469534, 197.48241220808288, 102.89...</td>\n",
       "    </tr>\n",
       "    <tr>\n",
       "      <th>luminosity_distance</th>\n",
       "      <td>[290.426592946818, 106.48126706100513, 187.739...</td>\n",
       "    </tr>\n",
       "    <tr>\n",
       "      <th>mass_1</th>\n",
       "      <td>[1.691771974207073, 1.896379422096461, 1.99601...</td>\n",
       "    </tr>\n",
       "    <tr>\n",
       "      <th>mass_1_source</th>\n",
       "      <td>[1.5919946348684362, 1.8525939982288722, 1.917...</td>\n",
       "    </tr>\n",
       "    <tr>\n",
       "      <th>mass_2</th>\n",
       "      <td>[1.420644725248986, 1.560882759862513, 1.73424...</td>\n",
       "    </tr>\n",
       "    <tr>\n",
       "      <th>mass_2_source</th>\n",
       "      <td>[1.336857930697522, 1.524843604168323, 1.66572...</td>\n",
       "    </tr>\n",
       "    <tr>\n",
       "      <th>mass_ratio_passed</th>\n",
       "      <td>[True, True, True, True, True, True, True, Tru...</td>\n",
       "    </tr>\n",
       "    <tr>\n",
       "      <th>optimal_snr_squared</th>\n",
       "      <td>[206.30922514467784, 1181.210280110161, 772.19...</td>\n",
       "    </tr>\n",
       "    <tr>\n",
       "      <th>phase</th>\n",
       "      <td>[6.254272698020112, 1.518294035534122, 0.96733...</td>\n",
       "    </tr>\n",
       "    <tr>\n",
       "      <th>psi</th>\n",
       "      <td>[1.955631662267679, 2.820783497402834, 2.99702...</td>\n",
       "    </tr>\n",
       "    <tr>\n",
       "      <th>ra</th>\n",
       "      <td>[3.9933340827033863, 2.198865209353751, 4.7315...</td>\n",
       "    </tr>\n",
       "    <tr>\n",
       "      <th>redshift</th>\n",
       "      <td>[0.06267441934368201, 0.023634657085928, 0.041...</td>\n",
       "    </tr>\n",
       "    <tr>\n",
       "      <th>theta_jn</th>\n",
       "      <td>[1.053762046933667, 1.9591833720842131, 0.6504...</td>\n",
       "    </tr>\n",
       "  </tbody>\n",
       "</table>\n",
       "</div>"
      ],
      "text/plain": [
       "                                                            injections\n",
       "SNR_passed           [True, True, True, True, True, True, True, Tru...\n",
       "all_cuts_passed      [True, True, True, True, True, True, True, Tru...\n",
       "chi_1                [0.036850625561290005, -5.853780158931462e-07,...\n",
       "chi_2                [-0.0017134324965930002, 0.005960292522309001,...\n",
       "chirp_mass           [1.34858038388442, 1.496341936380329, 1.618889...\n",
       "comoving_distance    [273.2978119858125, 104.02272610468582, 180.32...\n",
       "dec                  [-1.01631389956222, -0.296104124056984, 0.8105...\n",
       "geocent_time         [0.0, 0.0, 0.0, 0.0, 0.0, 0.0, 0.0, 0.0, 0.0, ...\n",
       "lambda_1             [145.15471676424988, 39.79150900918767, 26.970...\n",
       "lambda_2             [460.8362669469534, 197.48241220808288, 102.89...\n",
       "luminosity_distance  [290.426592946818, 106.48126706100513, 187.739...\n",
       "mass_1               [1.691771974207073, 1.896379422096461, 1.99601...\n",
       "mass_1_source        [1.5919946348684362, 1.8525939982288722, 1.917...\n",
       "mass_2               [1.420644725248986, 1.560882759862513, 1.73424...\n",
       "mass_2_source        [1.336857930697522, 1.524843604168323, 1.66572...\n",
       "mass_ratio_passed    [True, True, True, True, True, True, True, Tru...\n",
       "optimal_snr_squared  [206.30922514467784, 1181.210280110161, 772.19...\n",
       "phase                [6.254272698020112, 1.518294035534122, 0.96733...\n",
       "psi                  [1.955631662267679, 2.820783497402834, 2.99702...\n",
       "ra                   [3.9933340827033863, 2.198865209353751, 4.7315...\n",
       "redshift             [0.06267441934368201, 0.023634657085928, 0.041...\n",
       "theta_jn             [1.053762046933667, 1.9591833720842131, 0.6504..."
      ]
     },
     "execution_count": 13,
     "metadata": {},
     "output_type": "execute_result"
    }
   ],
   "source": [
    "events"
   ]
  },
  {
   "cell_type": "code",
   "execution_count": null,
   "id": "60d140c3-9449-4b27-8757-85411c3ec417",
   "metadata": {},
   "outputs": [],
   "source": []
  }
 ],
 "metadata": {
  "kernelspec": {
   "display_name": " igwn-py-testing",
   "language": "python",
   "name": "igwn-py-testing"
  },
  "language_info": {
   "codemirror_mode": {
    "name": "ipython",
    "version": 3
   },
   "file_extension": ".py",
   "mimetype": "text/x-python",
   "name": "python",
   "nbconvert_exporter": "python",
   "pygments_lexer": "ipython3",
   "version": "3.10.14"
  }
 },
 "nbformat": 4,
 "nbformat_minor": 5
}
